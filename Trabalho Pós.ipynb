{
 "cells": [
  {
   "cell_type": "markdown",
   "id": "established-cattle",
   "metadata": {},
   "source": [
    "## Trabalho Pós IESB - Especialização em Inteligência Artificial\n",
    "\n",
    "Professora Tatiana Tavares\n",
    "\n",
    "Alunos : Pedro Caiafa Marques & Tomás Rosário Rosemberg\n"
   ]
  },
  {
   "cell_type": "markdown",
   "id": "contemporary-yield",
   "metadata": {},
   "source": [
    "## Input variables:\n",
    "### [bank client data](https://archive.ics.uci.edu/ml/datasets/Bank+Marketing):\n",
    "\n",
    "1. age (numeric)\n",
    "2. job : type of job (categorical: 'admin.','blue-collar','entrepreneur','housemaid','management','retired','self-employed','services','student','technician','unemployed','unknown')\n",
    "3.marital : marital status (categorical: 'divorced','married','single','unknown'; note: 'divorced' means divorced or widowed)\n",
    "4.education (categorical: 'basic.4y','basic.6y','basic.9y','high.school','illiterate','professional.course','university.degree','unknown')\n",
    "5.default: has credit in default? (categorical: 'no','yes','unknown')\n",
    "6.housing: has housing loan? (categorical: 'no','yes','unknown')\n",
    "7.loan: has personal loan? (categorical: 'no','yes','unknown')\n",
    "\n",
    "### related with the last contact of the current campaign:\n",
    "\n",
    "8. contact: contact communication type (categorical: 'cellular','telephone')\n",
    "9. month: last contact month of year (categorical: 'jan', 'feb', 'mar', ..., 'nov', 'dec')\n",
    "10. day_of_week: last contact day of the week (categorical: 'mon','tue','wed','thu','fri')\n",
    "11. duration: last contact duration, in seconds (numeric). Important note: this attribute highly affects the output target (e.g., if duration=0 then y='no'). Yet, the duration is not known before a call is performed. Also, after the end of the call y is obviously known. Thus, this input should only be included for benchmark purposes and should be discarded if the intention is to have a realistic predictive model. (Removido)\n",
    "\n",
    "### other attributes:\n",
    "\n",
    "12. campaign: number of contacts performed during this campaign and for this client (numeric, includes last contact)\n",
    "13. pdays: number of days that passed by after the client was last contacted from a previous campaign (numeric; 999 means client was not previously contacted)\n",
    "14. previous: number of contacts performed before this campaign and for this client (numeric)\n",
    "15. poutcome: outcome of the previous marketing campaign (categorical: 'failure','nonexistent','success')\n",
    "\n",
    "Output variable (desired target):\n",
    "\n",
    "16. y - has the client subscribed a term deposit? (binary: 'yes','no')\n",
    "\n"
   ]
  },
  {
   "cell_type": "code",
   "execution_count": 1,
   "id": "complimentary-merit",
   "metadata": {},
   "outputs": [],
   "source": [
    "import tensorflow as tf\n",
    "from tensorflow import keras\n",
    "import pandas as pd\n",
    "import numpy as np\n",
    "import os\n",
    "import seaborn as sns\n",
    "from pandas.plotting import table\n",
    "import matplotlib.pyplot as plt\n",
    "from sklearn.preprocessing import OneHotEncoder,LabelEncoder\n",
    "from sklearn.model_selection import train_test_split\n",
    "%matplotlib inline"
   ]
  },
  {
   "cell_type": "code",
   "execution_count": 2,
   "id": "double-corpus",
   "metadata": {},
   "outputs": [],
   "source": [
    "dataset = pd.read_csv('data/bank-full.csv',sep=';')\n",
    "dataset.drop(columns='duration',inplace=True)"
   ]
  },
  {
   "cell_type": "code",
   "execution_count": 4,
   "id": "genetic-packing",
   "metadata": {},
   "outputs": [
    {
     "name": "stdout",
     "output_type": "stream",
     "text": [
      "(45211, 16)\n"
     ]
    },
    {
     "data": {
      "text/html": [
       "<div>\n",
       "<style scoped>\n",
       "    .dataframe tbody tr th:only-of-type {\n",
       "        vertical-align: middle;\n",
       "    }\n",
       "\n",
       "    .dataframe tbody tr th {\n",
       "        vertical-align: top;\n",
       "    }\n",
       "\n",
       "    .dataframe thead th {\n",
       "        text-align: right;\n",
       "    }\n",
       "</style>\n",
       "<table border=\"1\" class=\"dataframe\">\n",
       "  <thead>\n",
       "    <tr style=\"text-align: right;\">\n",
       "      <th></th>\n",
       "      <th>age</th>\n",
       "      <th>job</th>\n",
       "      <th>marital</th>\n",
       "      <th>education</th>\n",
       "      <th>default</th>\n",
       "      <th>balance</th>\n",
       "      <th>housing</th>\n",
       "      <th>loan</th>\n",
       "      <th>contact</th>\n",
       "      <th>day</th>\n",
       "      <th>month</th>\n",
       "      <th>campaign</th>\n",
       "      <th>pdays</th>\n",
       "      <th>previous</th>\n",
       "      <th>poutcome</th>\n",
       "      <th>y</th>\n",
       "    </tr>\n",
       "  </thead>\n",
       "  <tbody>\n",
       "    <tr>\n",
       "      <th>0</th>\n",
       "      <td>58</td>\n",
       "      <td>management</td>\n",
       "      <td>married</td>\n",
       "      <td>tertiary</td>\n",
       "      <td>no</td>\n",
       "      <td>2143</td>\n",
       "      <td>yes</td>\n",
       "      <td>no</td>\n",
       "      <td>unknown</td>\n",
       "      <td>5</td>\n",
       "      <td>may</td>\n",
       "      <td>1</td>\n",
       "      <td>-1</td>\n",
       "      <td>0</td>\n",
       "      <td>unknown</td>\n",
       "      <td>no</td>\n",
       "    </tr>\n",
       "    <tr>\n",
       "      <th>1</th>\n",
       "      <td>44</td>\n",
       "      <td>technician</td>\n",
       "      <td>single</td>\n",
       "      <td>secondary</td>\n",
       "      <td>no</td>\n",
       "      <td>29</td>\n",
       "      <td>yes</td>\n",
       "      <td>no</td>\n",
       "      <td>unknown</td>\n",
       "      <td>5</td>\n",
       "      <td>may</td>\n",
       "      <td>1</td>\n",
       "      <td>-1</td>\n",
       "      <td>0</td>\n",
       "      <td>unknown</td>\n",
       "      <td>no</td>\n",
       "    </tr>\n",
       "    <tr>\n",
       "      <th>2</th>\n",
       "      <td>33</td>\n",
       "      <td>entrepreneur</td>\n",
       "      <td>married</td>\n",
       "      <td>secondary</td>\n",
       "      <td>no</td>\n",
       "      <td>2</td>\n",
       "      <td>yes</td>\n",
       "      <td>yes</td>\n",
       "      <td>unknown</td>\n",
       "      <td>5</td>\n",
       "      <td>may</td>\n",
       "      <td>1</td>\n",
       "      <td>-1</td>\n",
       "      <td>0</td>\n",
       "      <td>unknown</td>\n",
       "      <td>no</td>\n",
       "    </tr>\n",
       "    <tr>\n",
       "      <th>3</th>\n",
       "      <td>47</td>\n",
       "      <td>blue-collar</td>\n",
       "      <td>married</td>\n",
       "      <td>unknown</td>\n",
       "      <td>no</td>\n",
       "      <td>1506</td>\n",
       "      <td>yes</td>\n",
       "      <td>no</td>\n",
       "      <td>unknown</td>\n",
       "      <td>5</td>\n",
       "      <td>may</td>\n",
       "      <td>1</td>\n",
       "      <td>-1</td>\n",
       "      <td>0</td>\n",
       "      <td>unknown</td>\n",
       "      <td>no</td>\n",
       "    </tr>\n",
       "    <tr>\n",
       "      <th>4</th>\n",
       "      <td>33</td>\n",
       "      <td>unknown</td>\n",
       "      <td>single</td>\n",
       "      <td>unknown</td>\n",
       "      <td>no</td>\n",
       "      <td>1</td>\n",
       "      <td>no</td>\n",
       "      <td>no</td>\n",
       "      <td>unknown</td>\n",
       "      <td>5</td>\n",
       "      <td>may</td>\n",
       "      <td>1</td>\n",
       "      <td>-1</td>\n",
       "      <td>0</td>\n",
       "      <td>unknown</td>\n",
       "      <td>no</td>\n",
       "    </tr>\n",
       "  </tbody>\n",
       "</table>\n",
       "</div>"
      ],
      "text/plain": [
       "   age           job  marital  education default  balance housing loan  \\\n",
       "0   58    management  married   tertiary      no     2143     yes   no   \n",
       "1   44    technician   single  secondary      no       29     yes   no   \n",
       "2   33  entrepreneur  married  secondary      no        2     yes  yes   \n",
       "3   47   blue-collar  married    unknown      no     1506     yes   no   \n",
       "4   33       unknown   single    unknown      no        1      no   no   \n",
       "\n",
       "   contact  day month  campaign  pdays  previous poutcome   y  \n",
       "0  unknown    5   may         1     -1         0  unknown  no  \n",
       "1  unknown    5   may         1     -1         0  unknown  no  \n",
       "2  unknown    5   may         1     -1         0  unknown  no  \n",
       "3  unknown    5   may         1     -1         0  unknown  no  \n",
       "4  unknown    5   may         1     -1         0  unknown  no  "
      ]
     },
     "execution_count": 4,
     "metadata": {},
     "output_type": "execute_result"
    }
   ],
   "source": [
    "print(dataset.shape)\n",
    "dataset.head()"
   ]
  },
  {
   "cell_type": "code",
   "execution_count": 5,
   "id": "brave-latex",
   "metadata": {},
   "outputs": [
    {
     "name": "stdout",
     "output_type": "stream",
     "text": [
      "<class 'pandas.core.frame.DataFrame'>\n",
      "RangeIndex: 45211 entries, 0 to 45210\n",
      "Data columns (total 16 columns):\n",
      " #   Column     Non-Null Count  Dtype \n",
      "---  ------     --------------  ----- \n",
      " 0   age        45211 non-null  int64 \n",
      " 1   job        45211 non-null  object\n",
      " 2   marital    45211 non-null  object\n",
      " 3   education  45211 non-null  object\n",
      " 4   default    45211 non-null  object\n",
      " 5   balance    45211 non-null  int64 \n",
      " 6   housing    45211 non-null  object\n",
      " 7   loan       45211 non-null  object\n",
      " 8   contact    45211 non-null  object\n",
      " 9   day        45211 non-null  int64 \n",
      " 10  month      45211 non-null  object\n",
      " 11  campaign   45211 non-null  int64 \n",
      " 12  pdays      45211 non-null  int64 \n",
      " 13  previous   45211 non-null  int64 \n",
      " 14  poutcome   45211 non-null  object\n",
      " 15  y          45211 non-null  object\n",
      "dtypes: int64(6), object(10)\n",
      "memory usage: 5.5+ MB\n"
     ]
    }
   ],
   "source": [
    "dataset.info()"
   ]
  },
  {
   "cell_type": "code",
   "execution_count": 6,
   "id": "controlled-repeat",
   "metadata": {},
   "outputs": [
    {
     "data": {
      "text/plain": [
       "age          0\n",
       "job          0\n",
       "marital      0\n",
       "education    0\n",
       "default      0\n",
       "balance      0\n",
       "housing      0\n",
       "loan         0\n",
       "contact      0\n",
       "day          0\n",
       "month        0\n",
       "campaign     0\n",
       "pdays        0\n",
       "previous     0\n",
       "poutcome     0\n",
       "y            0\n",
       "dtype: int64"
      ]
     },
     "execution_count": 6,
     "metadata": {},
     "output_type": "execute_result"
    }
   ],
   "source": [
    "## como podemos ver, não possuimos valores nulos nesse dataset. Conforme a documentação, possiveis valores que seriam nulos estão mapeados como 'unknown'\n",
    "dataset.isnull().sum()"
   ]
  },
  {
   "cell_type": "code",
   "execution_count": 7,
   "id": "opponent-stake",
   "metadata": {},
   "outputs": [
    {
     "data": {
      "image/png": "[encoded data removed]",
      "text/plain": [
       "<Figure size 1296x360 with 1 Axes>"
      ]
     },
     "metadata": {
      "needs_background": "light"
     },
     "output_type": "display_data"
    },
    {
     "data": {
      "image/png": "[encoded data removed]",
      "text/plain": [
       "<Figure size 1296x360 with 1 Axes>"
      ]
     },
     "metadata": {
      "needs_background": "light"
     },
     "output_type": "display_data"
    },
    {
     "data": {
      "image/png": "[encoded data removed]",
      "text/plain": [
       "<Figure size 1296x360 with 1 Axes>"
      ]
     },
     "metadata": {
      "needs_background": "light"
     },
     "output_type": "display_data"
    },
    {
     "data": {
      "image/png": "[encoded data removed]",
      "text/plain": [
       "<Figure size 1296x360 with 1 Axes>"
      ]
     },
     "metadata": {
      "needs_background": "light"
     },
     "output_type": "display_data"
    },
    {
     "data": {
      "image/png": "[encoded data removed]",
      "text/plain": [
       "<Figure size 1296x360 with 1 Axes>"
      ]
     },
     "metadata": {
      "needs_background": "light"
     },
     "output_type": "display_data"
    },
    {
     "data": {
      "image/png": "[encoded data removed]",
      "text/plain": [
       "<Figure size 1296x360 with 1 Axes>"
      ]
     },
     "metadata": {
      "needs_background": "light"
     },
     "output_type": "display_data"
    },
    {
     "data": {
      "image/png": "[encoded data removed]",
      "text/plain": [
       "<Figure size 1296x360 with 1 Axes>"
      ]
     },
     "metadata": {
      "needs_background": "light"
     },
     "output_type": "display_data"
    },
    {
     "data": {
      "image/png": "[encoded data removed]",
      "text/plain": [
       "<Figure size 1296x360 with 1 Axes>"
      ]
     },
     "metadata": {
      "needs_background": "light"
     },
     "output_type": "display_data"
    },
    {
     "data": {
      "image/png": "[encoded data removed]",
      "text/plain": [
       "<Figure size 1296x360 with 1 Axes>"
      ]
     },
     "metadata": {
      "needs_background": "light"
     },
     "output_type": "display_data"
    },
    {
     "data": {
      "image/png": "[encoded data removed]",
      "text/plain": [
       "<Figure size 1296x360 with 1 Axes>"
      ]
     },
     "metadata": {
      "needs_background": "light"
     },
     "output_type": "display_data"
    }
   ],
   "source": [
    "for column in dataset.columns:\n",
    "    if dataset[column].dtype == np.dtype('O'):\n",
    "        fig, ax = plt.subplots(figsize=(18,5))\n",
    "        ax.set_title(column)\n",
    "        sns.countplot(x=column, data=dataset)"
   ]
  },
  {
   "cell_type": "code",
   "execution_count": 8,
   "id": "secret-anderson",
   "metadata": {},
   "outputs": [],
   "source": [
    "def prepare_dataset(dataset):\n",
    "    dataset = dataset.values\n",
    "    X = dataset [:,:-1]\n",
    "    y = dataset[:,-1]\n",
    "    y.reshape(len(y),1)\n",
    "    return X,y\n",
    "\n",
    "def separe_dataset(X,y,test_size = 0.2):\n",
    "    X_train, X_test, y_train, y_test = train_test_split(X, y, test_size=test_size, random_state=1)\n",
    "    return X_train, X_test, y_train, y_test\n",
    "\n",
    "def prepare_inputs(X_train, X_test):\n",
    "    ohe = OneHotEncoder(handle_unknown='ignore')\n",
    "    ohe.fit(X_train)\n",
    "    X_train_enc = ohe.transform(X_train)\n",
    "    X_test_enc = ohe.transform(X_test)\n",
    "    return X_train_enc, X_test_enc\n",
    " \n",
    "def prepare_labels(y_train, y_test):\n",
    "    le = LabelEncoder()\n",
    "    le.fit(y_train)\n",
    "    y_train_enc = le.transform(y_train)\n",
    "    y_test_enc = le.transform(y_test)\n",
    "    return y_train_enc, y_test_enc\n"
   ]
  },
  {
   "cell_type": "code",
   "execution_count": 9,
   "id": "unavailable-monitor",
   "metadata": {},
   "outputs": [],
   "source": [
    "dataset = pd.read_csv('data/bank-full.csv',sep=';')\n",
    "dataset.drop(columns='duration',inplace=True)\n",
    "X,y = prepare_dataset(dataset)\n",
    "X_train, X_test, y_train, y_test = separe_dataset(X,y,test_size = 0.2)\n",
    "X_train_enc, X_test_enc = prepare_inputs(X_train, X_test)\n",
    "y_train_enc, y_test_enc = prepare_labels(y_train, y_test)"
   ]
  },
  {
   "cell_type": "code",
   "execution_count": 10,
   "id": "metallic-interstate",
   "metadata": {},
   "outputs": [
    {
     "name": "stdout",
     "output_type": "stream",
     "text": [
      "Epoch 1/50\n",
      "37/37 - 0s - loss: 0.4558 - accuracy: 0.8828\n",
      "Epoch 2/50\n",
      "37/37 - 0s - loss: 0.3359 - accuracy: 0.8828\n",
      "Epoch 3/50\n",
      "37/37 - 0s - loss: 0.3191 - accuracy: 0.8828\n",
      "Epoch 4/50\n",
      "37/37 - 0s - loss: 0.3075 - accuracy: 0.8843\n",
      "Epoch 5/50\n",
      "37/37 - 0s - loss: 0.2987 - accuracy: 0.8896\n",
      "Epoch 6/50\n",
      "37/37 - 0s - loss: 0.2915 - accuracy: 0.8928\n",
      "Epoch 7/50\n",
      "37/37 - 0s - loss: 0.2854 - accuracy: 0.8949\n",
      "Epoch 8/50\n",
      "37/37 - 0s - loss: 0.2804 - accuracy: 0.8962\n",
      "Epoch 9/50\n",
      "37/37 - 0s - loss: 0.2758 - accuracy: 0.8979\n",
      "Epoch 10/50\n",
      "37/37 - 0s - loss: 0.2718 - accuracy: 0.8993\n",
      "Epoch 11/50\n",
      "37/37 - 0s - loss: 0.2682 - accuracy: 0.9000\n",
      "Epoch 12/50\n",
      "37/37 - 0s - loss: 0.2646 - accuracy: 0.9008\n",
      "Epoch 13/50\n",
      "37/37 - 0s - loss: 0.2612 - accuracy: 0.9016\n",
      "Epoch 14/50\n",
      "37/37 - 0s - loss: 0.2579 - accuracy: 0.9021\n",
      "Epoch 15/50\n",
      "37/37 - 0s - loss: 0.2546 - accuracy: 0.9030\n",
      "Epoch 16/50\n",
      "37/37 - 0s - loss: 0.2515 - accuracy: 0.9040\n",
      "Epoch 17/50\n",
      "37/37 - 0s - loss: 0.2482 - accuracy: 0.9049\n",
      "Epoch 18/50\n",
      "37/37 - 0s - loss: 0.2450 - accuracy: 0.9058\n",
      "Epoch 19/50\n",
      "37/37 - 0s - loss: 0.2420 - accuracy: 0.9069\n",
      "Epoch 20/50\n",
      "37/37 - 0s - loss: 0.2390 - accuracy: 0.9079\n",
      "Epoch 21/50\n",
      "37/37 - 0s - loss: 0.2362 - accuracy: 0.9088\n",
      "Epoch 22/50\n",
      "37/37 - 0s - loss: 0.2335 - accuracy: 0.9099\n",
      "Epoch 23/50\n",
      "37/37 - 0s - loss: 0.2309 - accuracy: 0.9108\n",
      "Epoch 24/50\n",
      "37/37 - 0s - loss: 0.2283 - accuracy: 0.9120\n",
      "Epoch 25/50\n",
      "37/37 - 0s - loss: 0.2260 - accuracy: 0.9124\n",
      "Epoch 26/50\n",
      "37/37 - 0s - loss: 0.2237 - accuracy: 0.9131\n",
      "Epoch 27/50\n",
      "37/37 - 0s - loss: 0.2216 - accuracy: 0.9138\n",
      "Epoch 28/50\n",
      "37/37 - 0s - loss: 0.2195 - accuracy: 0.9150\n",
      "Epoch 29/50\n",
      "37/37 - 0s - loss: 0.2177 - accuracy: 0.9151\n",
      "Epoch 30/50\n",
      "37/37 - 0s - loss: 0.2158 - accuracy: 0.9165\n",
      "Epoch 31/50\n",
      "37/37 - 0s - loss: 0.2141 - accuracy: 0.9169\n",
      "Epoch 32/50\n",
      "37/37 - 0s - loss: 0.2123 - accuracy: 0.9186\n",
      "Epoch 33/50\n",
      "37/37 - 0s - loss: 0.2108 - accuracy: 0.9194\n",
      "Epoch 34/50\n",
      "37/37 - 0s - loss: 0.2091 - accuracy: 0.9202\n",
      "Epoch 35/50\n",
      "37/37 - 0s - loss: 0.2079 - accuracy: 0.9205\n",
      "Epoch 36/50\n",
      "37/37 - 0s - loss: 0.2064 - accuracy: 0.9216\n",
      "Epoch 37/50\n",
      "37/37 - 0s - loss: 0.2052 - accuracy: 0.9217\n",
      "Epoch 38/50\n",
      "37/37 - 0s - loss: 0.2037 - accuracy: 0.9234\n",
      "Epoch 39/50\n",
      "37/37 - 0s - loss: 0.2025 - accuracy: 0.9237\n",
      "Epoch 40/50\n",
      "37/37 - 0s - loss: 0.2013 - accuracy: 0.9243\n",
      "Epoch 41/50\n",
      "37/37 - 0s - loss: 0.2002 - accuracy: 0.9254\n",
      "Epoch 42/50\n",
      "37/37 - 0s - loss: 0.1990 - accuracy: 0.9256\n",
      "Epoch 43/50\n",
      "37/37 - 0s - loss: 0.1983 - accuracy: 0.9260\n",
      "Epoch 44/50\n",
      "37/37 - 0s - loss: 0.1970 - accuracy: 0.9265\n",
      "Epoch 45/50\n",
      "37/37 - 0s - loss: 0.1962 - accuracy: 0.9268\n",
      "Epoch 46/50\n",
      "37/37 - 0s - loss: 0.1956 - accuracy: 0.9271\n",
      "Epoch 47/50\n",
      "37/37 - 0s - loss: 0.1946 - accuracy: 0.9279\n",
      "Epoch 48/50\n",
      "37/37 - 0s - loss: 0.1936 - accuracy: 0.9275\n",
      "Epoch 49/50\n",
      "37/37 - 0s - loss: 0.1927 - accuracy: 0.9283\n",
      "Epoch 50/50\n",
      "37/37 - 0s - loss: 0.1922 - accuracy: 0.9284\n",
      "Accuracy: 88.00\n"
     ]
    }
   ],
   "source": [
    "model = tf.keras.Sequential()\n",
    "model.add(tf.keras.layers.Dense(10, input_dim=X_train_enc.shape[1], activation='relu', kernel_initializer='he_normal'))\n",
    "model.add(tf.keras.layers.Dense(1, activation='sigmoid'))\n",
    "model.compile(loss='binary_crossentropy', optimizer='adam', metrics=['accuracy'])\n",
    "model.fit(X_train_enc, y_train_enc, epochs=50, batch_size=1000, verbose=2)\n",
    "_, accuracy = model.evaluate(X_test_enc, y_test_enc, verbose=0)\n",
    "print('Accuracy: %.2f' % (accuracy*100))"
   ]
  },
  {
   "cell_type": "code",
   "execution_count": 11,
   "id": "thermal-prophet",
   "metadata": {},
   "outputs": [
    {
     "name": "stdout",
     "output_type": "stream",
     "text": [
      "Epoch 1/50\n",
      "37/37 - 0s - loss: 0.4985 - accuracy: 0.8355\n",
      "Epoch 2/50\n",
      "37/37 - 0s - loss: 0.3374 - accuracy: 0.8828\n",
      "Epoch 3/50\n",
      "37/37 - 0s - loss: 0.3171 - accuracy: 0.8828\n",
      "Epoch 4/50\n",
      "37/37 - 0s - loss: 0.3029 - accuracy: 0.8848\n",
      "Epoch 5/50\n",
      "37/37 - 0s - loss: 0.2906 - accuracy: 0.8944\n",
      "Epoch 6/50\n",
      "37/37 - 0s - loss: 0.2800 - accuracy: 0.8972\n",
      "Epoch 7/50\n",
      "37/37 - 0s - loss: 0.2713 - accuracy: 0.8993\n",
      "Epoch 8/50\n",
      "37/37 - 0s - loss: 0.2631 - accuracy: 0.9016\n",
      "Epoch 9/50\n",
      "37/37 - 0s - loss: 0.2544 - accuracy: 0.9043\n",
      "Epoch 10/50\n",
      "37/37 - 0s - loss: 0.2453 - accuracy: 0.9067\n",
      "Epoch 11/50\n",
      "37/37 - 0s - loss: 0.2363 - accuracy: 0.9094\n",
      "Epoch 12/50\n",
      "37/37 - 0s - loss: 0.2275 - accuracy: 0.9130\n",
      "Epoch 13/50\n",
      "37/37 - 0s - loss: 0.2201 - accuracy: 0.9156\n",
      "Epoch 14/50\n",
      "37/37 - 0s - loss: 0.2120 - accuracy: 0.9194\n",
      "Epoch 15/50\n",
      "37/37 - 0s - loss: 0.2054 - accuracy: 0.9222\n",
      "Epoch 16/50\n",
      "37/37 - 0s - loss: 0.1988 - accuracy: 0.9252\n",
      "Epoch 17/50\n",
      "37/37 - 0s - loss: 0.1938 - accuracy: 0.9272\n",
      "Epoch 18/50\n",
      "37/37 - 0s - loss: 0.1877 - accuracy: 0.9298\n",
      "Epoch 19/50\n",
      "37/37 - 0s - loss: 0.1822 - accuracy: 0.9315\n",
      "Epoch 20/50\n",
      "37/37 - 0s - loss: 0.1766 - accuracy: 0.9340\n",
      "Epoch 21/50\n",
      "37/37 - 0s - loss: 0.1709 - accuracy: 0.9375\n",
      "Epoch 22/50\n",
      "37/37 - 0s - loss: 0.1658 - accuracy: 0.9394\n",
      "Epoch 23/50\n",
      "37/37 - 0s - loss: 0.1612 - accuracy: 0.9411\n",
      "Epoch 24/50\n",
      "37/37 - 0s - loss: 0.1560 - accuracy: 0.9442\n",
      "Epoch 25/50\n",
      "37/37 - 0s - loss: 0.1506 - accuracy: 0.9462\n",
      "Epoch 26/50\n",
      "37/37 - 0s - loss: 0.1455 - accuracy: 0.9483\n",
      "Epoch 27/50\n",
      "37/37 - 0s - loss: 0.1406 - accuracy: 0.9508\n",
      "Epoch 28/50\n",
      "37/37 - 0s - loss: 0.1354 - accuracy: 0.9536\n",
      "Epoch 29/50\n",
      "37/37 - 0s - loss: 0.1321 - accuracy: 0.9539\n",
      "Epoch 30/50\n",
      "37/37 - 0s - loss: 0.1276 - accuracy: 0.9565\n",
      "Epoch 31/50\n",
      "37/37 - 0s - loss: 0.1228 - accuracy: 0.9576\n",
      "Epoch 32/50\n",
      "37/37 - 0s - loss: 0.1193 - accuracy: 0.9593\n",
      "Epoch 33/50\n",
      "37/37 - 0s - loss: 0.1156 - accuracy: 0.9606\n",
      "Epoch 34/50\n",
      "37/37 - 0s - loss: 0.1137 - accuracy: 0.9607\n",
      "Epoch 35/50\n",
      "37/37 - 0s - loss: 0.1091 - accuracy: 0.9630\n",
      "Epoch 36/50\n",
      "37/37 - 0s - loss: 0.1066 - accuracy: 0.9638\n",
      "Epoch 37/50\n",
      "37/37 - 0s - loss: 0.1029 - accuracy: 0.9654\n",
      "Epoch 38/50\n",
      "37/37 - 0s - loss: 0.1011 - accuracy: 0.9657\n",
      "Epoch 39/50\n",
      "37/37 - 0s - loss: 0.0980 - accuracy: 0.9671\n",
      "Epoch 40/50\n",
      "37/37 - 0s - loss: 0.0946 - accuracy: 0.9683\n",
      "Epoch 41/50\n",
      "37/37 - 0s - loss: 0.0927 - accuracy: 0.9691\n",
      "Epoch 42/50\n",
      "37/37 - 0s - loss: 0.0924 - accuracy: 0.9691\n",
      "Epoch 43/50\n",
      "37/37 - 0s - loss: 0.0881 - accuracy: 0.9707\n",
      "Epoch 44/50\n",
      "37/37 - 0s - loss: 0.0856 - accuracy: 0.9723\n",
      "Epoch 45/50\n",
      "37/37 - 0s - loss: 0.0851 - accuracy: 0.9722\n",
      "Epoch 46/50\n",
      "37/37 - 0s - loss: 0.0821 - accuracy: 0.9727\n",
      "Epoch 47/50\n",
      "37/37 - 0s - loss: 0.0809 - accuracy: 0.9733\n",
      "Epoch 48/50\n",
      "37/37 - 0s - loss: 0.0784 - accuracy: 0.9742\n",
      "Epoch 49/50\n",
      "37/37 - 0s - loss: 0.0765 - accuracy: 0.9751\n",
      "Epoch 50/50\n",
      "37/37 - 0s - loss: 0.0749 - accuracy: 0.9749\n",
      "Accuracy: 85.82\n"
     ]
    }
   ],
   "source": [
    "model = tf.keras.Sequential()\n",
    "model.add(tf.keras.layers.Dense(20, input_dim=X_train_enc.shape[1], activation='relu'))\n",
    "model.add(tf.keras.layers.Dense(10))\n",
    "model.add(tf.keras.layers.Dense(1, activation='sigmoid'))\n",
    "model.compile(loss='binary_crossentropy', optimizer='adam', metrics=['accuracy'])\n",
    "model.fit(X_train_enc, y_train_enc, epochs=50, batch_size=1000, verbose=2)\n",
    "_, accuracy = model.evaluate(X_test_enc, y_test_enc, verbose=0)\n",
    "print('Accuracy: %.2f' % (accuracy*100))"
   ]
  },
  {
   "cell_type": "code",
   "execution_count": 12,
   "id": "french-webster",
   "metadata": {},
   "outputs": [
    {
     "name": "stdout",
     "output_type": "stream",
     "text": [
      "Epoch 1/50\n",
      "37/37 - 0s - loss: 0.4794 - accuracy: 0.8504\n",
      "Epoch 2/50\n",
      "37/37 - 0s - loss: 0.3336 - accuracy: 0.8828\n",
      "Epoch 3/50\n",
      "37/37 - 0s - loss: 0.3134 - accuracy: 0.8828\n",
      "Epoch 4/50\n",
      "37/37 - 0s - loss: 0.2986 - accuracy: 0.8887\n",
      "Epoch 5/50\n",
      "37/37 - 0s - loss: 0.2861 - accuracy: 0.8950\n",
      "Epoch 6/50\n",
      "37/37 - 0s - loss: 0.2773 - accuracy: 0.8972\n",
      "Epoch 7/50\n",
      "37/37 - 0s - loss: 0.2700 - accuracy: 0.8992\n",
      "Epoch 8/50\n",
      "37/37 - 0s - loss: 0.2636 - accuracy: 0.9007\n",
      "Epoch 9/50\n",
      "37/37 - 0s - loss: 0.2571 - accuracy: 0.9021\n",
      "Epoch 10/50\n",
      "37/37 - 0s - loss: 0.2506 - accuracy: 0.9030\n",
      "Epoch 11/50\n",
      "37/37 - 0s - loss: 0.2443 - accuracy: 0.9060\n",
      "Epoch 12/50\n",
      "37/37 - 0s - loss: 0.2378 - accuracy: 0.9083\n",
      "Epoch 13/50\n",
      "37/37 - 0s - loss: 0.2313 - accuracy: 0.9104\n",
      "Epoch 14/50\n",
      "37/37 - 0s - loss: 0.2251 - accuracy: 0.9127\n",
      "Epoch 15/50\n",
      "37/37 - 0s - loss: 0.2185 - accuracy: 0.9158\n",
      "Epoch 16/50\n",
      "37/37 - 0s - loss: 0.2124 - accuracy: 0.9199\n",
      "Epoch 17/50\n",
      "37/37 - 0s - loss: 0.2056 - accuracy: 0.9237\n",
      "Epoch 18/50\n",
      "37/37 - 0s - loss: 0.1997 - accuracy: 0.9263\n",
      "Epoch 19/50\n",
      "37/37 - 0s - loss: 0.1932 - accuracy: 0.9291\n",
      "Epoch 20/50\n",
      "37/37 - 0s - loss: 0.1863 - accuracy: 0.9322\n",
      "Epoch 21/50\n",
      "37/37 - 0s - loss: 0.1804 - accuracy: 0.9344\n",
      "Epoch 22/50\n",
      "37/37 - 0s - loss: 0.1744 - accuracy: 0.9377\n",
      "Epoch 23/50\n",
      "37/37 - 0s - loss: 0.1689 - accuracy: 0.9396\n",
      "Epoch 24/50\n",
      "37/37 - 0s - loss: 0.1638 - accuracy: 0.9417\n",
      "Epoch 25/50\n",
      "37/37 - 0s - loss: 0.1580 - accuracy: 0.9442\n",
      "Epoch 26/50\n",
      "37/37 - 0s - loss: 0.1526 - accuracy: 0.9470\n",
      "Epoch 27/50\n",
      "37/37 - 0s - loss: 0.1480 - accuracy: 0.9485\n",
      "Epoch 28/50\n",
      "37/37 - 0s - loss: 0.1432 - accuracy: 0.9514\n",
      "Epoch 29/50\n",
      "37/37 - 0s - loss: 0.1386 - accuracy: 0.9529\n",
      "Epoch 30/50\n",
      "37/37 - 0s - loss: 0.1340 - accuracy: 0.9555\n",
      "Epoch 31/50\n",
      "37/37 - 0s - loss: 0.1294 - accuracy: 0.9574\n",
      "Epoch 32/50\n",
      "37/37 - 0s - loss: 0.1251 - accuracy: 0.9580\n",
      "Epoch 33/50\n",
      "37/37 - 0s - loss: 0.1210 - accuracy: 0.9600\n",
      "Epoch 34/50\n",
      "37/37 - 0s - loss: 0.1180 - accuracy: 0.9610\n",
      "Epoch 35/50\n",
      "37/37 - 0s - loss: 0.1137 - accuracy: 0.9623\n",
      "Epoch 36/50\n",
      "37/37 - 0s - loss: 0.1101 - accuracy: 0.9637\n",
      "Epoch 37/50\n",
      "37/37 - 0s - loss: 0.1073 - accuracy: 0.9641\n",
      "Epoch 38/50\n",
      "37/37 - 0s - loss: 0.1038 - accuracy: 0.9658\n",
      "Epoch 39/50\n",
      "37/37 - 0s - loss: 0.1022 - accuracy: 0.9665\n",
      "Epoch 40/50\n",
      "37/37 - 0s - loss: 0.0986 - accuracy: 0.9672\n",
      "Epoch 41/50\n",
      "37/37 - 0s - loss: 0.0965 - accuracy: 0.9685\n",
      "Epoch 42/50\n",
      "37/37 - 0s - loss: 0.0941 - accuracy: 0.9690\n",
      "Epoch 43/50\n",
      "37/37 - 0s - loss: 0.0926 - accuracy: 0.9694\n",
      "Epoch 44/50\n",
      "37/37 - 0s - loss: 0.0906 - accuracy: 0.9703\n",
      "Epoch 45/50\n",
      "37/37 - 0s - loss: 0.0894 - accuracy: 0.9704\n",
      "Epoch 46/50\n",
      "37/37 - 0s - loss: 0.0865 - accuracy: 0.9714\n",
      "Epoch 47/50\n",
      "37/37 - 0s - loss: 0.0848 - accuracy: 0.9717\n",
      "Epoch 48/50\n",
      "37/37 - 0s - loss: 0.0828 - accuracy: 0.9729\n",
      "Epoch 49/50\n",
      "37/37 - 0s - loss: 0.0813 - accuracy: 0.9735\n",
      "Epoch 50/50\n",
      "37/37 - 0s - loss: 0.0798 - accuracy: 0.9740\n",
      "Accuracy: 84.99\n"
     ]
    }
   ],
   "source": [
    "model = tf.keras.Sequential()\n",
    "model.add(tf.keras.layers.Dense(20, input_dim=X_train_enc.shape[1], activation='relu'))\n",
    "model.add(tf.keras.layers.Dense(10))\n",
    "model.add(tf.keras.layers.Dense(1, activation='sigmoid'))\n",
    "model.compile(loss='binary_crossentropy', optimizer='adam', metrics=['accuracy'])\n",
    "model.fit(X_train_enc, y_train_enc, epochs=50, batch_size=1000, verbose=2)\n",
    "_, accuracy = model.evaluate(X_test_enc, y_test_enc, verbose=0)\n",
    "print('Accuracy: %.2f' % (accuracy*100))"
   ]
  },
  {
   "cell_type": "code",
   "execution_count": null,
   "id": "adequate-representation",
   "metadata": {},
   "outputs": [],
   "source": []
  },
  {
   "cell_type": "code",
   "execution_count": null,
   "id": "periodic-external",
   "metadata": {},
   "outputs": [],
   "source": []
  }
 ],
 "metadata": {
  "kernelspec": {
   "display_name": "Python 3",
   "language": "python",
   "name": "python3"
  },
  "language_info": {
   "codemirror_mode": {
    "name": "ipython",
    "version": 3
   },
   "file_extension": ".py",
   "mimetype": "text/x-python",
   "name": "python",
   "nbconvert_exporter": "python",
   "pygments_lexer": "ipython3",
   "version": "3.8.8"
  }
 },
 "nbformat": 4,
 "nbformat_minor": 5
}
